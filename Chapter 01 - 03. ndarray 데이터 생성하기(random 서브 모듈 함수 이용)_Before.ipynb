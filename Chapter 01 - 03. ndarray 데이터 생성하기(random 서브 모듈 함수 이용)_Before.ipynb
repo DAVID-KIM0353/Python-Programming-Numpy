{
 "cells": [
  {
   "cell_type": "markdown",
   "metadata": {},
   "source": [
    "### 학습목표\n",
    " - random 서브모듈 함수를 통해 ndarray 생성하기"
   ]
  },
  {
   "cell_type": "code",
   "execution_count": 1,
   "metadata": {},
   "outputs": [],
   "source": [
    "import numpy as np"
   ]
  },
  {
   "cell_type": "markdown",
   "metadata": {},
   "source": [
    "#### random 서브모듈"
   ]
  },
  {
   "cell_type": "markdown",
   "metadata": {},
   "source": [
    "#### rand 함수\n",
    " - 0, 1사이의 분포로 랜덤한 ndarray 생성"
   ]
  },
  {
   "cell_type": "code",
   "execution_count": 3,
   "metadata": {},
   "outputs": [
    {
     "data": {
      "text/plain": [
       "array([[0.84086799, 0.30002925, 0.70686057],\n",
       "       [0.87680231, 0.57179413, 0.6610447 ]])"
      ]
     },
     "execution_count": 3,
     "metadata": {},
     "output_type": "execute_result"
    }
   ],
   "source": [
    "np.random.rand(2, 3) # 2행 3열 랜덤 행렬 생성"
   ]
  },
  {
   "cell_type": "code",
   "execution_count": 5,
   "metadata": {},
   "outputs": [
    {
     "data": {
      "text/plain": [
       "array([0.80292142, 0.34756183, 0.48783733, 0.86316509, 0.24437337,\n",
       "       0.24335822, 0.71842573, 0.03939438, 0.19914124, 0.21454696])"
      ]
     },
     "execution_count": 5,
     "metadata": {},
     "output_type": "execute_result"
    }
   ],
   "source": [
    "np.random.rand(10) # 1차원 행렬"
   ]
  },
  {
   "cell_type": "code",
   "execution_count": 7,
   "metadata": {},
   "outputs": [
    {
     "data": {
      "text/plain": [
       "array([[[0.84246398, 0.73805253, 0.34576843],\n",
       "        [0.73891833, 0.34604166, 0.0929467 ],\n",
       "        [0.17872659, 0.23766017, 0.30783857],\n",
       "        [0.81207603, 0.06807401, 0.77810932],\n",
       "        [0.79949217, 0.27245734, 0.0423747 ]],\n",
       "\n",
       "       [[0.24262146, 0.38273884, 0.82311793],\n",
       "        [0.46241444, 0.56671885, 0.2378066 ],\n",
       "        [0.65522584, 0.79856371, 0.44831681],\n",
       "        [0.91528722, 0.74071836, 0.49109096],\n",
       "        [0.13384861, 0.78923075, 0.16673369]],\n",
       "\n",
       "       [[0.44960063, 0.72986825, 0.75777242],\n",
       "        [0.17191072, 0.80112073, 0.47633567],\n",
       "        [0.31078568, 0.28357888, 0.70620144],\n",
       "        [0.06373146, 0.89553169, 0.91833946],\n",
       "        [0.47193036, 0.18923761, 0.48347688]],\n",
       "\n",
       "       [[0.59004033, 0.60648677, 0.55964914],\n",
       "        [0.06959845, 0.90748796, 0.03461995],\n",
       "        [0.5085695 , 0.32786768, 0.72610572],\n",
       "        [0.48364739, 0.0730066 , 0.2433144 ],\n",
       "        [0.70332782, 0.72967214, 0.12640999]]])"
      ]
     },
     "execution_count": 7,
     "metadata": {},
     "output_type": "execute_result"
    }
   ],
   "source": [
    "np.random.rand(4, 5, 3) # 5행 3열 행렬 4개 생성"
   ]
  },
  {
   "cell_type": "markdown",
   "metadata": {},
   "source": [
    "#### randn함수\n",
    " - n: normal distribution(정규분포)\n",
    " - 정규분포로 샘플링된 랜덤 ndarray 생성"
   ]
  },
  {
   "cell_type": "code",
   "execution_count": 8,
   "metadata": {},
   "outputs": [
    {
     "data": {
      "text/plain": [
       "array([[-0.75765761, -0.22494284, -0.43855932, -1.31504908],\n",
       "       [-0.3084368 , -1.24850303, -0.42495614,  0.44004569],\n",
       "       [ 1.5069541 ,  0.6875555 ,  0.22897132,  0.52015909]])"
      ]
     },
     "execution_count": 8,
     "metadata": {},
     "output_type": "execute_result"
    }
   ],
   "source": [
    "np.random.randn(3, 4) # 정규분포애서 샘플링해서 생성"
   ]
  },
  {
   "cell_type": "code",
   "execution_count": 10,
   "metadata": {},
   "outputs": [
    {
     "data": {
      "text/plain": [
       "array([[[-0.12431434,  0.57353567],\n",
       "        [-0.00956728, -0.70842016],\n",
       "        [-0.9949641 ,  0.12251131],\n",
       "        [ 0.10806653, -0.48089986]],\n",
       "\n",
       "       [[-1.5112801 ,  0.01054174],\n",
       "        [ 1.28769367, -0.25759641],\n",
       "        [-0.22958966,  0.63992798],\n",
       "        [ 0.01642098,  1.39808577]],\n",
       "\n",
       "       [[-1.78730429,  0.47337087],\n",
       "        [-0.95581493, -0.62536579],\n",
       "        [ 0.38685118, -1.15307761],\n",
       "        [-0.53942456, -1.4839747 ]]])"
      ]
     },
     "execution_count": 10,
     "metadata": {},
     "output_type": "execute_result"
    }
   ],
   "source": [
    "np.random.randn(3, 4, 2)"
   ]
  },
  {
   "cell_type": "code",
   "execution_count": 12,
   "metadata": {},
   "outputs": [
    {
     "data": {
      "text/plain": [
       "array([ 1.13199949,  0.39775995,  0.1761283 ,  0.87793409, -0.40451829])"
      ]
     },
     "execution_count": 12,
     "metadata": {},
     "output_type": "execute_result"
    }
   ],
   "source": [
    "np.random.randn(5) # 벡터로 정규분포형태 값 출력"
   ]
  },
  {
   "cell_type": "markdown",
   "metadata": {},
   "source": [
    "#### randint 함수\n",
    " - 특정 정수 사이에서 랜덤하게 샘플링"
   ]
  },
  {
   "cell_type": "code",
   "execution_count": 14,
   "metadata": {},
   "outputs": [
    {
     "data": {
      "text/plain": [
       "array([[58, 82, 44, 79, 58],\n",
       "       [35,  5, 33, 22, 37],\n",
       "       [30, 25, 96, 54, 91]])"
      ]
     },
     "execution_count": 14,
     "metadata": {},
     "output_type": "execute_result"
    }
   ],
   "source": [
    "np.random.randint(1, 100, size = (3, 5)) # 3행 5열으로 1부터 100 사이에서 랜덤하게  sampling"
   ]
  },
  {
   "cell_type": "code",
   "execution_count": 43,
   "metadata": {},
   "outputs": [
    {
     "data": {
      "text/plain": [
       "array([77,  4, 71,  4, 85])"
      ]
     },
     "execution_count": 43,
     "metadata": {},
     "output_type": "execute_result"
    }
   ],
   "source": [
    "np.random.randint(1, 100, size = (5, ))"
   ]
  },
  {
   "cell_type": "markdown",
   "metadata": {},
   "source": [
    "#### seed 함수\n",
    " - 랜덤한 값을 동일하게 다시 생성하고자 할때 사용"
   ]
  },
  {
   "cell_type": "code",
   "execution_count": 50,
   "metadata": {},
   "outputs": [],
   "source": [
    "np.random.seed(100)"
   ]
  },
  {
   "cell_type": "code",
   "execution_count": 52,
   "metadata": {},
   "outputs": [
    {
     "data": {
      "text/plain": [
       "array([[-0.58359505,  0.81684707,  0.67272081, -0.10441114],\n",
       "       [-0.53128038,  1.02973269, -0.43813562, -1.11831825],\n",
       "       [ 1.61898166,  1.54160517, -0.25187914, -0.84243574]])"
      ]
     },
     "execution_count": 52,
     "metadata": {},
     "output_type": "execute_result"
    }
   ],
   "source": [
    "np.random.randn(3, 4) # 랜덤한 값을 동일한 값으로 다시 출력시킴"
   ]
  },
  {
   "cell_type": "markdown",
   "metadata": {},
   "source": [
    "#### choice\n",
    " - 주어진 1차원 ndarray로 부터 랜덤으로 샘플링\n",
    " - 정수가 주어진 경우, np.arange(해당숫자)로 간주"
   ]
  },
  {
   "cell_type": "code",
   "execution_count": 56,
   "metadata": {},
   "outputs": [
    {
     "data": {
      "text/plain": [
       "array([[57, 76,  3, 70],\n",
       "       [ 3, 84, 79, 10],\n",
       "       [87, 60,  3, 48]])"
      ]
     },
     "execution_count": 56,
     "metadata": {},
     "output_type": "execute_result"
    }
   ],
   "source": [
    "np.random.choice(100, size = (3, 4)) # 100안에서 3행 4열로 샘플링"
   ]
  },
  {
   "cell_type": "code",
   "execution_count": 53,
   "metadata": {},
   "outputs": [
    {
     "data": {
      "text/plain": [
       "array([[39, 38, 44, 18],\n",
       "       [64, 56, 34, 53],\n",
       "       [74, 17, 72, 13]])"
      ]
     },
     "execution_count": 53,
     "metadata": {},
     "output_type": "execute_result"
    }
   ],
   "source": [
    "np.random.choice(100, (3, 4))"
   ]
  },
  {
   "cell_type": "code",
   "execution_count": 57,
   "metadata": {},
   "outputs": [
    {
     "data": {
      "text/plain": [
       "array([[4.9, 3. ],\n",
       "       [2. , 1. ]])"
      ]
     },
     "execution_count": 57,
     "metadata": {},
     "output_type": "execute_result"
    }
   ],
   "source": [
    "x = np.array([1, 2, 3, 1.5, 2.6, 4.9])\n",
    "np.random.choice(x, size = (2, 2), replace = False) # replace = False 는 중복을 허용 x"
   ]
  },
  {
   "cell_type": "markdown",
   "metadata": {},
   "source": [
    "#### 확률분포에 따른 ndarray 생성\n",
    " - uniform\n",
    " - normal 등등"
   ]
  },
  {
   "cell_type": "code",
   "execution_count": 62,
   "metadata": {},
   "outputs": [
    {
     "data": {
      "text/plain": [
       "array([[2.22065631, 1.6180007 , 2.39546982, 2.71923659, 2.25064752],\n",
       "       [2.96481566, 2.95300025, 1.33338826, 1.04635627, 1.3214891 ],\n",
       "       [2.84699365, 2.9070997 , 1.42195684, 1.7210505 , 2.09875052],\n",
       "       [1.5436617 , 1.92120324, 2.39232313, 2.00071179, 2.43214198]])"
      ]
     },
     "execution_count": 62,
     "metadata": {},
     "output_type": "execute_result"
    }
   ],
   "source": [
    "np.random.uniform(1.0, 3.0, size = (4, 5)) # uniform한 분포해서 랜덤하게 샘플링 1.0과 3.0 사이에서 4행 5열로"
   ]
  },
  {
   "cell_type": "code",
   "execution_count": 61,
   "metadata": {},
   "outputs": [
    {
     "data": {
      "text/plain": [
       "array([[-1.8411883 ,  0.36609323, -0.33177714, -0.68921798],\n",
       "       [ 2.03460756, -0.55071441,  0.75045333, -1.30699234],\n",
       "       [ 0.58057334, -1.10452309,  0.69012147,  0.68689007]])"
      ]
     },
     "execution_count": 61,
     "metadata": {},
     "output_type": "execute_result"
    }
   ],
   "source": [
    "np.random.normal(size = (3, 4)) # np.random.randn(3, 4) 와 같음"
   ]
  }
 ],
 "metadata": {
  "kernelspec": {
   "display_name": "Python 3",
   "language": "python",
   "name": "python3"
  },
  "language_info": {
   "codemirror_mode": {
    "name": "ipython",
    "version": 3
   },
   "file_extension": ".py",
   "mimetype": "text/x-python",
   "name": "python",
   "nbconvert_exporter": "python",
   "pygments_lexer": "ipython3",
   "version": "3.8.3"
  }
 },
 "nbformat": 4,
 "nbformat_minor": 2
}
